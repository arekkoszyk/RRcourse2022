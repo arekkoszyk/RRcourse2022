{
 "cells": [
  {
   "cell_type": "code",
   "execution_count": 1,
   "id": "96c213c9",
   "metadata": {},
   "outputs": [
    {
     "name": "stdout",
     "output_type": "stream",
     "text": [
      "Collecting us\n",
      "  Downloading us-2.0.2.tar.gz (14 kB)\n",
      "Collecting jellyfish==0.6.1\n",
      "  Downloading jellyfish-0.6.1.tar.gz (132 kB)\n",
      "\u001b[K     |████████████████████████████████| 132 kB 371 kB/s eta 0:00:01\n",
      "\u001b[?25hBuilding wheels for collected packages: us, jellyfish\n",
      "  Building wheel for us (setup.py) ... \u001b[?25ldone\n",
      "\u001b[?25h  Created wheel for us: filename=us-2.0.2-py3-none-any.whl size=11942 sha256=94fc7be8ff72722d04b546830cd11c638be18d8b3659ebe90fbbcf697a544350\n",
      "  Stored in directory: /Users/arek/Library/Caches/pip/wheels/1a/93/5b/98d3861ec2c4a9d90b16324c6f8d7e4db03e6a830bc993adbb\n",
      "  Building wheel for jellyfish (setup.py) ... \u001b[?25ldone\n",
      "\u001b[?25h  Created wheel for jellyfish: filename=jellyfish-0.6.1-cp39-cp39-macosx_10_9_x86_64.whl size=22779 sha256=297718e1160f76fb95de5aa02bdc2acfdea9dc6c9f8da1034aa0de9c41591079\n",
      "  Stored in directory: /Users/arek/Library/Caches/pip/wheels/e6/7d/be/a937dbd1f988778a15011a563ac3a12917103bfc25ff6cb473\n",
      "Successfully built us jellyfish\n",
      "Installing collected packages: jellyfish, us\n",
      "Successfully installed jellyfish-0.6.1 us-2.0.2\n",
      "Note: you may need to restart the kernel to use updated packages.\n"
     ]
    }
   ],
   "source": [
    "pip install us"
   ]
  },
  {
   "cell_type": "code",
   "execution_count": 1,
   "id": "f4295370",
   "metadata": {},
   "outputs": [],
   "source": [
    "import us\n",
    "import numpy as np\n",
    "import pandas as pd"
   ]
  },
  {
   "cell_type": "code",
   "execution_count": 2,
   "id": "e0bd83c5",
   "metadata": {},
   "outputs": [
    {
     "name": "stdout",
     "output_type": "stream",
     "text": [
      "Alaska\n"
     ]
    },
    {
     "data": {
      "text/plain": [
       "str"
      ]
     },
     "execution_count": 2,
     "metadata": {},
     "output_type": "execute_result"
    }
   ],
   "source": [
    "print(str(us.states.STATES[1]))\n",
    "type(str(us.states.STATES[1]))"
   ]
  },
  {
   "cell_type": "code",
   "execution_count": 3,
   "id": "8c0e42e4",
   "metadata": {},
   "outputs": [],
   "source": [
    "States = list()\n",
    "STATES = list()\n",
    "states = list()\n",
    "for i in range(len(us.states.STATES)):\n",
    "    States.append(str(us.states.STATES[i]))\n",
    "    STATES.append(States[i].upper())\n",
    "    states.append(States[i].lower())"
   ]
  },
  {
   "cell_type": "code",
   "execution_count": 4,
   "id": "14f8dd42",
   "metadata": {},
   "outputs": [],
   "source": [
    "with open(\"States.txt\", 'w') as file:\n",
    "    file.write('\\n'.join(States))\n",
    "    \n",
    "with open(\"States_upper.txt\", 'w') as file:\n",
    "    file.write('\\n'.join(STATES))\n",
    "    \n",
    "with open(\"States_lower.txt\", 'w') as file:\n",
    "    file.write('\\n'.join(states))"
   ]
  }
 ],
 "metadata": {
  "kernelspec": {
   "display_name": "Python 3 (ipykernel)",
   "language": "python",
   "name": "python3"
  },
  "language_info": {
   "codemirror_mode": {
    "name": "ipython",
    "version": 3
   },
   "file_extension": ".py",
   "mimetype": "text/x-python",
   "name": "python",
   "nbconvert_exporter": "python",
   "pygments_lexer": "ipython3",
   "version": "3.9.7"
  }
 },
 "nbformat": 4,
 "nbformat_minor": 5
}
