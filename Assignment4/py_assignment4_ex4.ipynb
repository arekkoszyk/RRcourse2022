{
 "cells": [
  {
   "cell_type": "code",
   "execution_count": 16,
   "id": "308852f6",
   "metadata": {},
   "outputs": [],
   "source": [
    "import pandas as pd\n",
    "\n",
    "# read the file with data\n",
    "students = pd.read_csv('/Users/arek/Desktop/RR/RRcourse2022/Assignment4/StudentsPerformance.csv')\n",
    "# students = pd.read_csv('StudentsPerformance.csv')\n",
    "\n",
    "# the dataframe contains data about 5 groups\n",
    "stud_a = students.loc[students['race/ethnicity'] == 'group A']\n",
    "stud_b = students.loc[students['race/ethnicity'] == 'group B']\n",
    "stud_c = students.loc[students['race/ethnicity'] == 'group C']\n",
    "stud_d = students.loc[students['race/ethnicity'] == 'group D']\n",
    "stud_e = students.loc[students['race/ethnicity'] == 'group E']"
   ]
  },
  {
   "cell_type": "code",
   "execution_count": 17,
   "id": "8e125d8b",
   "metadata": {},
   "outputs": [
    {
     "name": "stdout",
     "output_type": "stream",
     "text": [
      "Mean math score for a group A:  61.62921348314607\n",
      "Mean math score for a group B:  63.45263157894737\n",
      "Mean math score for a group C:  64.46394984326018\n",
      "Mean math score for a group D:  67.36259541984732\n",
      "Mean math score for a group E:  73.82142857142857\n"
     ]
    }
   ],
   "source": [
    "# print mean math score for each group\n",
    "groupa = stud_a['math score'].mean()\n",
    "print('Mean math score for a group A: ', groupa)\n",
    "\n",
    "groupb = stud_b['math score'].mean()\n",
    "print('Mean math score for a group B: ', groupb)\n",
    "\n",
    "groupc = stud_c['math score'].mean()\n",
    "print('Mean math score for a group C: ', groupc)\n",
    "\n",
    "groupd = stud_d['math score'].mean()\n",
    "print('Mean math score for a group D: ', groupd)\n",
    "\n",
    "groupe = stud_e['math score'].mean()\n",
    "print('Mean math score for a group E: ', groupe)"
   ]
  },
  {
   "cell_type": "code",
   "execution_count": 18,
   "id": "b18b543b",
   "metadata": {},
   "outputs": [
    {
     "name": "stdout",
     "output_type": "stream",
     "text": [
      "math 72.11486486486487\n",
      "reading 76.62837837837837\n",
      "writing 77.8445945945946\n"
     ]
    }
   ],
   "source": [
    "# print mean math, reading, and writing scores for students who completed the test preparation course \n",
    "# and their parent obtained a degree\n",
    "degree_test = studPerformance.loc[(studPerformance['test preparation course'] == 'completed') & (studPerformance['parental level of education'].isin([\"associate's degree\", \"bachelor's degree\", \"master's degree\"]))]\n",
    "print('math', degree_test['math score'].mean())\n",
    "print('reading', degree_test['reading score'].mean())\n",
    "print('writing', degree_test['writing score'].mean())"
   ]
  },
  {
   "cell_type": "code",
   "execution_count": 19,
   "id": "32c6e5f9",
   "metadata": {},
   "outputs": [
    {
     "data": {
      "image/png": "[encoded data removed]",
      "text/plain": [
       "<Figure size 432x288 with 1 Axes>"
      ]
     },
     "metadata": {
      "needs_background": "light"
     },
     "output_type": "display_data"
    }
   ],
   "source": [
    "import matplotlib.pyplot as plt\n",
    "\n",
    "# plot the histogram of math scores divided by reading scores for each student\n",
    "plt.hist(studPerformance['math score'] / studPerformance['reading score'])\n",
    "plt.title('ratio')\n",
    "plt.show()\n",
    "plt.close()"
   ]
  }
 ],
 "metadata": {
  "kernelspec": {
   "display_name": "Python 3 (ipykernel)",
   "language": "python",
   "name": "python3"
  },
  "language_info": {
   "codemirror_mode": {
    "name": "ipython",
    "version": 3
   },
   "file_extension": ".py",
   "mimetype": "text/x-python",
   "name": "python",
   "nbconvert_exporter": "python",
   "pygments_lexer": "ipython3",
   "version": "3.9.7"
  }
 },
 "nbformat": 4,
 "nbformat_minor": 5
}
